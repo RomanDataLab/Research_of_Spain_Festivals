{
 "cells": [
  {
   "cell_type": "code",
   "execution_count": 1,
   "id": "f835c372",
   "metadata": {},
   "outputs": [
    {
     "name": "stdout",
     "output_type": "stream",
     "text": [
      "<class 'pandas.core.frame.DataFrame'>\n",
      "RangeIndex: 280 entries, 0 to 279\n",
      "Data columns (total 4 columns):\n",
      " #   Column                 Non-Null Count  Dtype \n",
      "---  ------                 --------------  ----- \n",
      " 0   Comunidades autónomas  280 non-null    object\n",
      " 1   Tipo de dato           280 non-null    object\n",
      " 2   Periodo                280 non-null    int64 \n",
      " 3   Total                  256 non-null    object\n",
      "dtypes: int64(1), object(3)\n",
      "memory usage: 8.9+ KB\n"
     ]
    }
   ],
   "source": [
    "import pandas as pd\n",
    "import numpy as np\n",
    "from deep_translator import GoogleTranslator\n",
    "\n",
    "#translate whole xlsx, columns of economic categories: 'GCNAE', 'CCNAE', 'SCNAE', > translate unique items and replace within columns,\n",
    "#convert 'COORD_X', 'COORD_Y' into float\n",
    "#then save file with index_EN\n",
    "df = pd.read_csv(r'C:\\WORK_IAAC\\submissions\\Storytelling\\23988.csv', delimiter=';')\n",
    "# df = pd.read_excel\n",
    "df.dropna()\n",
    "df.info()"
   ]
  },
  {
   "cell_type": "code",
   "execution_count": 2,
   "id": "974000d3",
   "metadata": {},
   "outputs": [
    {
     "data": {
      "text/html": [
       "<div>\n",
       "<style scoped>\n",
       "    .dataframe tbody tr th:only-of-type {\n",
       "        vertical-align: middle;\n",
       "    }\n",
       "\n",
       "    .dataframe tbody tr th {\n",
       "        vertical-align: top;\n",
       "    }\n",
       "\n",
       "    .dataframe thead th {\n",
       "        text-align: right;\n",
       "    }\n",
       "</style>\n",
       "<table border=\"1\" class=\"dataframe\">\n",
       "  <thead>\n",
       "    <tr style=\"text-align: right;\">\n",
       "      <th></th>\n",
       "      <th>Comunidades autónomas</th>\n",
       "      <th>Tipo de dato</th>\n",
       "      <th>Periodo</th>\n",
       "      <th>Total</th>\n",
       "    </tr>\n",
       "  </thead>\n",
       "  <tbody>\n",
       "    <tr>\n",
       "      <th>0</th>\n",
       "      <td>Total</td>\n",
       "      <td>Dato base</td>\n",
       "      <td>2022</td>\n",
       "      <td>71.561.488</td>\n",
       "    </tr>\n",
       "    <tr>\n",
       "      <th>1</th>\n",
       "      <td>Total</td>\n",
       "      <td>Dato base</td>\n",
       "      <td>2021</td>\n",
       "      <td>31.180.802</td>\n",
       "    </tr>\n",
       "    <tr>\n",
       "      <th>2</th>\n",
       "      <td>Total</td>\n",
       "      <td>Dato base</td>\n",
       "      <td>2020</td>\n",
       "      <td>18.933.103</td>\n",
       "    </tr>\n",
       "    <tr>\n",
       "      <th>3</th>\n",
       "      <td>Total</td>\n",
       "      <td>Dato base</td>\n",
       "      <td>2019</td>\n",
       "      <td>83.509.153</td>\n",
       "    </tr>\n",
       "    <tr>\n",
       "      <th>4</th>\n",
       "      <td>Total</td>\n",
       "      <td>Dato base</td>\n",
       "      <td>2018</td>\n",
       "      <td>82.808.413</td>\n",
       "    </tr>\n",
       "  </tbody>\n",
       "</table>\n",
       "</div>"
      ],
      "text/plain": [
       "  Comunidades autónomas Tipo de dato  Periodo       Total\n",
       "0                 Total    Dato base     2022  71.561.488\n",
       "1                 Total    Dato base     2021  31.180.802\n",
       "2                 Total    Dato base     2020  18.933.103\n",
       "3                 Total    Dato base     2019  83.509.153\n",
       "4                 Total    Dato base     2018  82.808.413"
      ]
     },
     "execution_count": 2,
     "metadata": {},
     "output_type": "execute_result"
    }
   ],
   "source": [
    "df.head()"
   ]
  },
  {
   "cell_type": "code",
   "execution_count": 3,
   "id": "ef42f57c",
   "metadata": {},
   "outputs": [
    {
     "data": {
      "text/plain": [
       "array(['Total', '01 Andalucía', '02 Aragón', '03 Asturias, Principado de',\n",
       "       '04 Balears, Illes', '05 Canarias', '06 Cantabria',\n",
       "       '07 Castilla y León', '08 Castilla - La Mancha', '09 Cataluña',\n",
       "       '10 Comunitat Valenciana', '11 Extremadura', '12 Galicia',\n",
       "       '13 Madrid, Comunidad de', '14 Murcia, Región de',\n",
       "       '15 Navarra, Comunidad Foral de', '16 País Vasco', '17 Rioja, La',\n",
       "       '18 Ceuta', '19 Melilla'], dtype=object)"
      ]
     },
     "execution_count": 3,
     "metadata": {},
     "output_type": "execute_result"
    }
   ],
   "source": [
    "df['Comunidades autónomas'].unique()"
   ]
  },
  {
   "cell_type": "code",
   "execution_count": 4,
   "id": "c180c478",
   "metadata": {},
   "outputs": [
    {
     "data": {
      "text/html": [
       "<div>\n",
       "<style scoped>\n",
       "    .dataframe tbody tr th:only-of-type {\n",
       "        vertical-align: middle;\n",
       "    }\n",
       "\n",
       "    .dataframe tbody tr th {\n",
       "        vertical-align: top;\n",
       "    }\n",
       "\n",
       "    .dataframe thead th {\n",
       "        text-align: right;\n",
       "    }\n",
       "</style>\n",
       "<table border=\"1\" class=\"dataframe\">\n",
       "  <thead>\n",
       "    <tr style=\"text-align: right;\">\n",
       "      <th></th>\n",
       "      <th>Comunidades autónomas</th>\n",
       "      <th>Tipo de dato</th>\n",
       "      <th>Periodo</th>\n",
       "      <th>Total</th>\n",
       "    </tr>\n",
       "  </thead>\n",
       "  <tbody>\n",
       "    <tr>\n",
       "      <th>70</th>\n",
       "      <td>05 Canarias</td>\n",
       "      <td>Dato base</td>\n",
       "      <td>2022</td>\n",
       "      <td>12.329.171</td>\n",
       "    </tr>\n",
       "    <tr>\n",
       "      <th>71</th>\n",
       "      <td>05 Canarias</td>\n",
       "      <td>Dato base</td>\n",
       "      <td>2021</td>\n",
       "      <td>5.258.729</td>\n",
       "    </tr>\n",
       "    <tr>\n",
       "      <th>72</th>\n",
       "      <td>05 Canarias</td>\n",
       "      <td>Dato base</td>\n",
       "      <td>2020</td>\n",
       "      <td>3.787.228</td>\n",
       "    </tr>\n",
       "    <tr>\n",
       "      <th>73</th>\n",
       "      <td>05 Canarias</td>\n",
       "      <td>Dato base</td>\n",
       "      <td>2019</td>\n",
       "      <td>13.146.863</td>\n",
       "    </tr>\n",
       "    <tr>\n",
       "      <th>74</th>\n",
       "      <td>05 Canarias</td>\n",
       "      <td>Dato base</td>\n",
       "      <td>2018</td>\n",
       "      <td>13.752.022</td>\n",
       "    </tr>\n",
       "    <tr>\n",
       "      <th>75</th>\n",
       "      <td>05 Canarias</td>\n",
       "      <td>Dato base</td>\n",
       "      <td>2017</td>\n",
       "      <td>14.214.222</td>\n",
       "    </tr>\n",
       "    <tr>\n",
       "      <th>76</th>\n",
       "      <td>05 Canarias</td>\n",
       "      <td>Dato base</td>\n",
       "      <td>2016</td>\n",
       "      <td>13.259.567</td>\n",
       "    </tr>\n",
       "    <tr>\n",
       "      <th>77</th>\n",
       "      <td>05 Canarias</td>\n",
       "      <td>Tasa de variación anual</td>\n",
       "      <td>2022</td>\n",
       "      <td>134,45</td>\n",
       "    </tr>\n",
       "    <tr>\n",
       "      <th>78</th>\n",
       "      <td>05 Canarias</td>\n",
       "      <td>Tasa de variación anual</td>\n",
       "      <td>2021</td>\n",
       "      <td>38,85</td>\n",
       "    </tr>\n",
       "    <tr>\n",
       "      <th>79</th>\n",
       "      <td>05 Canarias</td>\n",
       "      <td>Tasa de variación anual</td>\n",
       "      <td>2020</td>\n",
       "      <td>-71,19</td>\n",
       "    </tr>\n",
       "    <tr>\n",
       "      <th>80</th>\n",
       "      <td>05 Canarias</td>\n",
       "      <td>Tasa de variación anual</td>\n",
       "      <td>2019</td>\n",
       "      <td>-4,4</td>\n",
       "    </tr>\n",
       "    <tr>\n",
       "      <th>81</th>\n",
       "      <td>05 Canarias</td>\n",
       "      <td>Tasa de variación anual</td>\n",
       "      <td>2018</td>\n",
       "      <td>-3,25</td>\n",
       "    </tr>\n",
       "    <tr>\n",
       "      <th>82</th>\n",
       "      <td>05 Canarias</td>\n",
       "      <td>Tasa de variación anual</td>\n",
       "      <td>2017</td>\n",
       "      <td>7,2</td>\n",
       "    </tr>\n",
       "    <tr>\n",
       "      <th>83</th>\n",
       "      <td>05 Canarias</td>\n",
       "      <td>Tasa de variación anual</td>\n",
       "      <td>2016</td>\n",
       "      <td>13,49</td>\n",
       "    </tr>\n",
       "  </tbody>\n",
       "</table>\n",
       "</div>"
      ],
      "text/plain": [
       "   Comunidades autónomas             Tipo de dato  Periodo       Total\n",
       "70           05 Canarias                Dato base     2022  12.329.171\n",
       "71           05 Canarias                Dato base     2021   5.258.729\n",
       "72           05 Canarias                Dato base     2020   3.787.228\n",
       "73           05 Canarias                Dato base     2019  13.146.863\n",
       "74           05 Canarias                Dato base     2018  13.752.022\n",
       "75           05 Canarias                Dato base     2017  14.214.222\n",
       "76           05 Canarias                Dato base     2016  13.259.567\n",
       "77           05 Canarias  Tasa de variación anual     2022      134,45\n",
       "78           05 Canarias  Tasa de variación anual     2021       38,85\n",
       "79           05 Canarias  Tasa de variación anual     2020      -71,19\n",
       "80           05 Canarias  Tasa de variación anual     2019        -4,4\n",
       "81           05 Canarias  Tasa de variación anual     2018       -3,25\n",
       "82           05 Canarias  Tasa de variación anual     2017         7,2\n",
       "83           05 Canarias  Tasa de variación anual     2016       13,49"
      ]
     },
     "execution_count": 4,
     "metadata": {},
     "output_type": "execute_result"
    }
   ],
   "source": [
    "xf = df[df['Comunidades autónomas'] == '05 Canarias']\n",
    "xf"
   ]
  },
  {
   "cell_type": "code",
   "execution_count": 7,
   "id": "453767b7",
   "metadata": {},
   "outputs": [
    {
     "ename": "SyntaxError",
     "evalue": "unexpected EOF while parsing (3090454467.py, line 2)",
     "output_type": "error",
     "traceback": [
      "\u001b[1;36m  File \u001b[1;32m\"C:\\Users\\rromu\\AppData\\Local\\Temp\\ipykernel_20912\\3090454467.py\"\u001b[1;36m, line \u001b[1;32m2\u001b[0m\n\u001b[1;33m    # new_string = re.sub(r'\\d{2}\\s', '', string)\u001b[0m\n\u001b[1;37m                                                 ^\u001b[0m\n\u001b[1;31mSyntaxError\u001b[0m\u001b[1;31m:\u001b[0m unexpected EOF while parsing\n"
     ]
    }
   ],
   "source": [
    "df['Comunidades autónomas'] = df['Comunidades autónomas'].apply(lambda x: x.re.sub(r'\\d{2}\\s', '', string)\n",
    "# new_string = re.sub(r'\\d{2}\\s', '', string)"
   ]
  },
  {
   "cell_type": "code",
   "execution_count": null,
   "id": "1cb3a997",
   "metadata": {},
   "outputs": [],
   "source": []
  }
 ],
 "metadata": {
  "kernelspec": {
   "display_name": "Python 3 (ipykernel)",
   "language": "python",
   "name": "python3"
  },
  "language_info": {
   "codemirror_mode": {
    "name": "ipython",
    "version": 3
   },
   "file_extension": ".py",
   "mimetype": "text/x-python",
   "name": "python",
   "nbconvert_exporter": "python",
   "pygments_lexer": "ipython3",
   "version": "3.9.13"
  }
 },
 "nbformat": 4,
 "nbformat_minor": 5
}
