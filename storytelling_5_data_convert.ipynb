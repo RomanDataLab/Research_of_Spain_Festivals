{
 "cells": [
  {
   "cell_type": "code",
   "execution_count": 12,
   "id": "4e83c287",
   "metadata": {},
   "outputs": [
    {
     "data": {
      "text/html": [
       "<div>\n",
       "<style scoped>\n",
       "    .dataframe tbody tr th:only-of-type {\n",
       "        vertical-align: middle;\n",
       "    }\n",
       "\n",
       "    .dataframe tbody tr th {\n",
       "        vertical-align: top;\n",
       "    }\n",
       "\n",
       "    .dataframe thead th {\n",
       "        text-align: right;\n",
       "    }\n",
       "</style>\n",
       "<table border=\"1\" class=\"dataframe\">\n",
       "  <thead>\n",
       "    <tr style=\"text-align: right;\">\n",
       "      <th></th>\n",
       "      <th>festival</th>\n",
       "      <th>localidad</th>\n",
       "      <th>lat</th>\n",
       "      <th>lng</th>\n",
       "      <th>status</th>\n",
       "      <th>est</th>\n",
       "      <th>type</th>\n",
       "      <th>prov</th>\n",
       "      <th>comunidad</th>\n",
       "      <th>presupuesto_2022</th>\n",
       "      <th>turistas_2022</th>\n",
       "      <th>city_budget</th>\n",
       "      <th>city_pop</th>\n",
       "      <th>euro_per_citizen</th>\n",
       "      <th>turista_to_pop</th>\n",
       "      <th>budget_to_pop</th>\n",
       "      <th>start</th>\n",
       "      <th>fin</th>\n",
       "      <th>web</th>\n",
       "    </tr>\n",
       "  </thead>\n",
       "  <tbody>\n",
       "    <tr>\n",
       "      <th>0</th>\n",
       "      <td>Carnaval de Cádiz</td>\n",
       "      <td>Cádiz</td>\n",
       "      <td>36.51667</td>\n",
       "      <td>-6.28333</td>\n",
       "      <td>interes internacional</td>\n",
       "      <td>1980</td>\n",
       "      <td>carnaval</td>\n",
       "      <td>Cádiz</td>\n",
       "      <td>Andalucía</td>\n",
       "      <td>600000</td>\n",
       "      <td>400000</td>\n",
       "      <td>61000000</td>\n",
       "      <td>113066</td>\n",
       "      <td>5.31</td>\n",
       "      <td>3.54</td>\n",
       "      <td>539.51</td>\n",
       "      <td>2/16/2023</td>\n",
       "      <td>2/26/2023</td>\n",
       "      <td>https://www.cadizturismo.com/eventos/carnaval-...</td>\n",
       "    </tr>\n",
       "    <tr>\n",
       "      <th>1</th>\n",
       "      <td>Semana Santa de Málaga</td>\n",
       "      <td>Málaga</td>\n",
       "      <td>36.71667</td>\n",
       "      <td>-4.41667</td>\n",
       "      <td>interes internacional</td>\n",
       "      <td>1980</td>\n",
       "      <td>religious/ popular</td>\n",
       "      <td>Málaga</td>\n",
       "      <td>Andalucía</td>\n",
       "      <td>400000</td>\n",
       "      <td>1400000</td>\n",
       "      <td>976000000</td>\n",
       "      <td>579076</td>\n",
       "      <td>0.69</td>\n",
       "      <td>2.42</td>\n",
       "      <td>1685.44</td>\n",
       "      <td>4/2/2023</td>\n",
       "      <td>4/9/2023</td>\n",
       "      <td>https://www.semana-santa-malaga.com/</td>\n",
       "    </tr>\n",
       "    <tr>\n",
       "      <th>2</th>\n",
       "      <td>Semana Santa en Sevilla</td>\n",
       "      <td>Sevilla</td>\n",
       "      <td>37.38333</td>\n",
       "      <td>-5.98333</td>\n",
       "      <td>interes internacional</td>\n",
       "      <td>1980</td>\n",
       "      <td>religious/ popular</td>\n",
       "      <td>Sevilla</td>\n",
       "      <td>Andalucía</td>\n",
       "      <td>1000000</td>\n",
       "      <td>700000</td>\n",
       "      <td>1158000000</td>\n",
       "      <td>681998</td>\n",
       "      <td>1.47</td>\n",
       "      <td>1.03</td>\n",
       "      <td>1697.95</td>\n",
       "      <td>4/2/2023</td>\n",
       "      <td>4/9/2023</td>\n",
       "      <td>https://www.semana-santa.org/</td>\n",
       "    </tr>\n",
       "    <tr>\n",
       "      <th>3</th>\n",
       "      <td>Semana Santa en Granada</td>\n",
       "      <td>Granada</td>\n",
       "      <td>37.17806</td>\n",
       "      <td>-3.60083</td>\n",
       "      <td>interes internacional</td>\n",
       "      <td>2009</td>\n",
       "      <td>religious/ popular</td>\n",
       "      <td>Granada</td>\n",
       "      <td>Andalucía</td>\n",
       "      <td>150000</td>\n",
       "      <td>150000</td>\n",
       "      <td>307000000</td>\n",
       "      <td>228682</td>\n",
       "      <td>0.66</td>\n",
       "      <td>0.66</td>\n",
       "      <td>1342.48</td>\n",
       "      <td>4/2/2023</td>\n",
       "      <td>4/9/2023</td>\n",
       "      <td>https://semanasantagranada.es/</td>\n",
       "    </tr>\n",
       "    <tr>\n",
       "      <th>4</th>\n",
       "      <td>Feria de Abril</td>\n",
       "      <td>Sevilla</td>\n",
       "      <td>37.38333</td>\n",
       "      <td>-5.98333</td>\n",
       "      <td>interes internacional</td>\n",
       "      <td>1980</td>\n",
       "      <td>carnaval</td>\n",
       "      <td>Sevilla</td>\n",
       "      <td>Andalucía</td>\n",
       "      <td>1200000</td>\n",
       "      <td>1000000</td>\n",
       "      <td>1158000000</td>\n",
       "      <td>681998</td>\n",
       "      <td>1.76</td>\n",
       "      <td>1.47</td>\n",
       "      <td>1697.95</td>\n",
       "      <td>4/23/2023</td>\n",
       "      <td>4/29/2023</td>\n",
       "      <td>https://www.sevilla.org/fiestas-de-la-ciudad/f...</td>\n",
       "    </tr>\n",
       "  </tbody>\n",
       "</table>\n",
       "</div>"
      ],
      "text/plain": [
       "                  festival localidad       lat       lng  \\\n",
       "0        Carnaval de Cádiz     Cádiz  36.51667  -6.28333   \n",
       "1   Semana Santa de Málaga    Málaga  36.71667  -4.41667   \n",
       "2  Semana Santa en Sevilla   Sevilla  37.38333  -5.98333   \n",
       "3  Semana Santa en Granada   Granada  37.17806  -3.60083   \n",
       "4           Feria de Abril   Sevilla  37.38333  -5.98333   \n",
       "\n",
       "                  status   est                type     prov   comunidad  \\\n",
       "0  interes internacional  1980            carnaval    Cádiz  Andalucía    \n",
       "1  interes internacional  1980  religious/ popular   Málaga  Andalucía    \n",
       "2  interes internacional  1980  religious/ popular  Sevilla  Andalucía    \n",
       "3  interes internacional  2009  religious/ popular  Granada  Andalucía    \n",
       "4  interes internacional  1980            carnaval  Sevilla  Andalucía    \n",
       "\n",
       "   presupuesto_2022  turistas_2022  city_budget  city_pop  euro_per_citizen  \\\n",
       "0            600000         400000     61000000    113066              5.31   \n",
       "1            400000        1400000    976000000    579076              0.69   \n",
       "2           1000000         700000   1158000000    681998              1.47   \n",
       "3            150000         150000    307000000    228682              0.66   \n",
       "4           1200000        1000000   1158000000    681998              1.76   \n",
       "\n",
       "   turista_to_pop  budget_to_pop      start        fin  \\\n",
       "0            3.54         539.51  2/16/2023  2/26/2023   \n",
       "1            2.42        1685.44   4/2/2023   4/9/2023   \n",
       "2            1.03        1697.95   4/2/2023   4/9/2023   \n",
       "3            0.66        1342.48   4/2/2023   4/9/2023   \n",
       "4            1.47        1697.95  4/23/2023  4/29/2023   \n",
       "\n",
       "                                                 web  \n",
       "0  https://www.cadizturismo.com/eventos/carnaval-...  \n",
       "1               https://www.semana-santa-malaga.com/  \n",
       "2                      https://www.semana-santa.org/  \n",
       "3                     https://semanasantagranada.es/  \n",
       "4  https://www.sevilla.org/fiestas-de-la-ciudad/f...  "
      ]
     },
     "execution_count": 12,
     "metadata": {},
     "output_type": "execute_result"
    }
   ],
   "source": [
    "import pandas as pd\n",
    "import geocoder\n",
    "#read scraped file\n",
    "df = pd.read_csv(r'C:\\WORK_IAAC\\submissions\\Storytelling\\fiestas.csv', encoding='utf-8-sig')\n",
    "df.head()"
   ]
  },
  {
   "cell_type": "code",
   "execution_count": 13,
   "id": "187d3e49",
   "metadata": {},
   "outputs": [
    {
     "name": "stdout",
     "output_type": "stream",
     "text": [
      "<class 'pandas.core.frame.DataFrame'>\n",
      "RangeIndex: 115 entries, 0 to 114\n",
      "Data columns (total 19 columns):\n",
      " #   Column            Non-Null Count  Dtype  \n",
      "---  ------            --------------  -----  \n",
      " 0   festival          115 non-null    object \n",
      " 1   localidad         115 non-null    object \n",
      " 2   lat               115 non-null    object \n",
      " 3   lng               115 non-null    object \n",
      " 4   status            115 non-null    object \n",
      " 5   est               115 non-null    int64  \n",
      " 6   type              115 non-null    object \n",
      " 7   prov              115 non-null    object \n",
      " 8   comunidad         115 non-null    object \n",
      " 9   presupuesto_2022  115 non-null    int64  \n",
      " 10  turistas_2022     115 non-null    int64  \n",
      " 11  city_budget       115 non-null    int64  \n",
      " 12  city_pop          115 non-null    int64  \n",
      " 13  euro_per_citizen  115 non-null    float64\n",
      " 14  turista_to_pop    115 non-null    float64\n",
      " 15  budget_to_pop     115 non-null    float64\n",
      " 16  start             115 non-null    object \n",
      " 17  fin               115 non-null    object \n",
      " 18  web               115 non-null    object \n",
      "dtypes: float64(3), int64(5), object(11)\n",
      "memory usage: 17.2+ KB\n"
     ]
    }
   ],
   "source": [
    "df.info()"
   ]
  },
  {
   "cell_type": "code",
   "execution_count": 16,
   "id": "a6f30c54",
   "metadata": {},
   "outputs": [],
   "source": [
    "df['lat'] = df['lat'].str.replace('\\ufeff', '').astype(float)"
   ]
  },
  {
   "cell_type": "code",
   "execution_count": 17,
   "id": "1a74f522",
   "metadata": {},
   "outputs": [],
   "source": [
    "df['lng'] = df['lng'].str.replace('\\ufeff', '').astype(float)"
   ]
  },
  {
   "cell_type": "code",
   "execution_count": 18,
   "id": "9b277ad8",
   "metadata": {},
   "outputs": [
    {
     "name": "stdout",
     "output_type": "stream",
     "text": [
      "<class 'pandas.core.frame.DataFrame'>\n",
      "RangeIndex: 115 entries, 0 to 114\n",
      "Data columns (total 19 columns):\n",
      " #   Column            Non-Null Count  Dtype  \n",
      "---  ------            --------------  -----  \n",
      " 0   festival          115 non-null    object \n",
      " 1   localidad         115 non-null    object \n",
      " 2   lat               115 non-null    float64\n",
      " 3   lng               115 non-null    float64\n",
      " 4   status            115 non-null    object \n",
      " 5   est               115 non-null    int64  \n",
      " 6   type              115 non-null    object \n",
      " 7   prov              115 non-null    object \n",
      " 8   comunidad         115 non-null    object \n",
      " 9   presupuesto_2022  115 non-null    int64  \n",
      " 10  turistas_2022     115 non-null    int64  \n",
      " 11  city_budget       115 non-null    int64  \n",
      " 12  city_pop          115 non-null    int64  \n",
      " 13  euro_per_citizen  115 non-null    float64\n",
      " 14  turista_to_pop    115 non-null    float64\n",
      " 15  budget_to_pop     115 non-null    float64\n",
      " 16  start             115 non-null    object \n",
      " 17  fin               115 non-null    object \n",
      " 18  web               115 non-null    object \n",
      "dtypes: float64(5), int64(5), object(9)\n",
      "memory usage: 17.2+ KB\n"
     ]
    }
   ],
   "source": [
    "df.info()"
   ]
  },
  {
   "cell_type": "code",
   "execution_count": 30,
   "id": "2deaec5b",
   "metadata": {},
   "outputs": [
    {
     "ename": "TypeError",
     "evalue": "to_csv() got an unexpected keyword argument 'inplace'",
     "output_type": "error",
     "traceback": [
      "\u001b[1;31m---------------------------------------------------------------------------\u001b[0m",
      "\u001b[1;31mTypeError\u001b[0m                                 Traceback (most recent call last)",
      "\u001b[1;32m~\\AppData\\Local\\Temp\\ipykernel_5860\\3807363584.py\u001b[0m in \u001b[0;36m<module>\u001b[1;34m\u001b[0m\n\u001b[1;32m----> 1\u001b[1;33m \u001b[0mdf\u001b[0m\u001b[1;33m.\u001b[0m\u001b[0mto_csv\u001b[0m\u001b[1;33m(\u001b[0m\u001b[1;34mr'C:\\WORK_IAAC\\submissions\\Storytelling\\fiestas_red2.csv'\u001b[0m\u001b[1;33m,\u001b[0m \u001b[0minplace\u001b[0m\u001b[1;33m=\u001b[0m\u001b[1;32mTrue\u001b[0m\u001b[1;33m)\u001b[0m\u001b[1;33m\u001b[0m\u001b[1;33m\u001b[0m\u001b[0m\n\u001b[0m",
      "\u001b[1;31mTypeError\u001b[0m: to_csv() got an unexpected keyword argument 'inplace'"
     ]
    }
   ],
   "source": [
    "df.to_csv(r'C:\\WORK_IAAC\\submissions\\Storytelling\\fiestas_red.csv', inplace=True)"
   ]
  },
  {
   "cell_type": "code",
   "execution_count": 31,
   "id": "1debc68f",
   "metadata": {},
   "outputs": [],
   "source": [
    "from datetime import datetime\n",
    "df['st'] = pd.to_datetime(df['start'], format='%m/%d/%Y')"
   ]
  },
  {
   "cell_type": "code",
   "execution_count": 32,
   "id": "16e85f86",
   "metadata": {},
   "outputs": [
    {
     "name": "stdout",
     "output_type": "stream",
     "text": [
      "<class 'pandas.core.frame.DataFrame'>\n",
      "RangeIndex: 115 entries, 0 to 114\n",
      "Data columns (total 20 columns):\n",
      " #   Column            Non-Null Count  Dtype         \n",
      "---  ------            --------------  -----         \n",
      " 0   festival          115 non-null    object        \n",
      " 1   localidad         115 non-null    object        \n",
      " 2   lat               115 non-null    float64       \n",
      " 3   lng               115 non-null    float64       \n",
      " 4   status            115 non-null    object        \n",
      " 5   est               115 non-null    int64         \n",
      " 6   type              115 non-null    object        \n",
      " 7   prov              115 non-null    object        \n",
      " 8   comunidad         115 non-null    object        \n",
      " 9   presupuesto_2022  115 non-null    int64         \n",
      " 10  turistas_2022     115 non-null    int64         \n",
      " 11  city_budget       115 non-null    int64         \n",
      " 12  city_pop          115 non-null    int64         \n",
      " 13  euro_per_citizen  115 non-null    float64       \n",
      " 14  turista_to_pop    115 non-null    float64       \n",
      " 15  budget_to_pop     115 non-null    float64       \n",
      " 16  start             115 non-null    object        \n",
      " 17  fin               115 non-null    object        \n",
      " 18  web               115 non-null    object        \n",
      " 19  st                115 non-null    datetime64[ns]\n",
      "dtypes: datetime64[ns](1), float64(5), int64(5), object(9)\n",
      "memory usage: 18.1+ KB\n"
     ]
    }
   ],
   "source": [
    "df.info()"
   ]
  },
  {
   "cell_type": "code",
   "execution_count": 33,
   "id": "2e5cdeb8",
   "metadata": {},
   "outputs": [],
   "source": [
    "df['fi'] = pd.to_datetime(df['fin'], format='%m/%d/%Y')"
   ]
  },
  {
   "cell_type": "code",
   "execution_count": 34,
   "id": "f8d7eb0e",
   "metadata": {},
   "outputs": [],
   "source": [
    "df.to_csv(r'C:\\WORK_IAAC\\submissions\\Storytelling\\fiestas_red.csv')"
   ]
  },
  {
   "cell_type": "code",
   "execution_count": null,
   "id": "39857eff",
   "metadata": {},
   "outputs": [],
   "source": []
  }
 ],
 "metadata": {
  "kernelspec": {
   "display_name": "Python 3 (ipykernel)",
   "language": "python",
   "name": "python3"
  },
  "language_info": {
   "codemirror_mode": {
    "name": "ipython",
    "version": 3
   },
   "file_extension": ".py",
   "mimetype": "text/x-python",
   "name": "python",
   "nbconvert_exporter": "python",
   "pygments_lexer": "ipython3",
   "version": "3.9.13"
  }
 },
 "nbformat": 4,
 "nbformat_minor": 5
}
