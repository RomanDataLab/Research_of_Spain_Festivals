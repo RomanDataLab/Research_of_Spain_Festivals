{
 "cells": [
  {
   "cell_type": "code",
   "execution_count": 26,
   "id": "e6a1a99d",
   "metadata": {},
   "outputs": [
    {
     "data": {
      "text/html": [
       "<div>\n",
       "<style scoped>\n",
       "    .dataframe tbody tr th:only-of-type {\n",
       "        vertical-align: middle;\n",
       "    }\n",
       "\n",
       "    .dataframe tbody tr th {\n",
       "        vertical-align: top;\n",
       "    }\n",
       "\n",
       "    .dataframe thead th {\n",
       "        text-align: right;\n",
       "    }\n",
       "</style>\n",
       "<table border=\"1\" class=\"dataframe\">\n",
       "  <thead>\n",
       "    <tr style=\"text-align: right;\">\n",
       "      <th></th>\n",
       "      <th>festival</th>\n",
       "      <th>localidad</th>\n",
       "      <th>lat</th>\n",
       "      <th>lng</th>\n",
       "      <th>status</th>\n",
       "      <th>est</th>\n",
       "      <th>prov</th>\n",
       "      <th>comunidad</th>\n",
       "      <th>start</th>\n",
       "      <th>fin</th>\n",
       "    </tr>\n",
       "  </thead>\n",
       "  <tbody>\n",
       "    <tr>\n",
       "      <th>0</th>\n",
       "      <td>Semana Santa en Medina de Rioseco</td>\n",
       "      <td>Medina de Rioseco</td>\n",
       "      <td>41.88306</td>\n",
       "      <td>-5.04278</td>\n",
       "      <td>interes internacional</td>\n",
       "      <td>2009.0</td>\n",
       "      <td>Valladolid</td>\n",
       "      <td>Castilla-León</td>\n",
       "      <td>4/2/2023</td>\n",
       "      <td>4/9/2023</td>\n",
       "    </tr>\n",
       "    <tr>\n",
       "      <th>1</th>\n",
       "      <td>Corpus Christi en Béjar</td>\n",
       "      <td>Béjar</td>\n",
       "      <td>40.38472</td>\n",
       "      <td>-5.76194</td>\n",
       "      <td>interes internacional</td>\n",
       "      <td>2019.0</td>\n",
       "      <td>Salamanca</td>\n",
       "      <td>Castilla-León</td>\n",
       "      <td>6/8/2023</td>\n",
       "      <td>6/8/2023</td>\n",
       "    </tr>\n",
       "    <tr>\n",
       "      <th>2</th>\n",
       "      <td>Semana Santa en Vivero</td>\n",
       "      <td>Vivero</td>\n",
       "      <td>43.64806</td>\n",
       "      <td>-7.59000</td>\n",
       "      <td>interes internacional</td>\n",
       "      <td>2013.0</td>\n",
       "      <td>Lugo</td>\n",
       "      <td>Galicia</td>\n",
       "      <td>4/2/2023</td>\n",
       "      <td>4/9/2023</td>\n",
       "    </tr>\n",
       "    <tr>\n",
       "      <th>3</th>\n",
       "      <td>Semana Santa en Medina del Campo</td>\n",
       "      <td>Medina del Campo</td>\n",
       "      <td>41.30861</td>\n",
       "      <td>-4.91500</td>\n",
       "      <td>interes internacional</td>\n",
       "      <td>2011.0</td>\n",
       "      <td>Valladolid</td>\n",
       "      <td>Castilla-León</td>\n",
       "      <td>4/2/2023</td>\n",
       "      <td>4/9/2023</td>\n",
       "    </tr>\n",
       "    <tr>\n",
       "      <th>4</th>\n",
       "      <td>Semana Santa en Hellín</td>\n",
       "      <td>Hellín</td>\n",
       "      <td>38.51222</td>\n",
       "      <td>-1.70333</td>\n",
       "      <td>interes internacional</td>\n",
       "      <td>2007.0</td>\n",
       "      <td>Albacete</td>\n",
       "      <td>Castilla-La Mancha</td>\n",
       "      <td>4/2/2023</td>\n",
       "      <td>4/9/2023</td>\n",
       "    </tr>\n",
       "  </tbody>\n",
       "</table>\n",
       "</div>"
      ],
      "text/plain": [
       "                            festival          localidad       lat       lng  \\\n",
       "0  Semana Santa en Medina de Rioseco  Medina de Rioseco  41.88306  -5.04278   \n",
       "1            Corpus Christi en Béjar              Béjar  40.38472  -5.76194   \n",
       "2             Semana Santa en Vivero             Vivero  43.64806  -7.59000   \n",
       "3   Semana Santa en Medina del Campo   Medina del Campo  41.30861  -4.91500   \n",
       "4             Semana Santa en Hellín             Hellín  38.51222  -1.70333   \n",
       "\n",
       "                  status     est        prov           comunidad     start  \\\n",
       "0  interes internacional  2009.0  Valladolid      Castilla-León   4/2/2023   \n",
       "1  interes internacional  2019.0   Salamanca      Castilla-León   6/8/2023   \n",
       "2  interes internacional  2013.0        Lugo             Galicia  4/2/2023   \n",
       "3  interes internacional  2011.0  Valladolid      Castilla-León   4/2/2023   \n",
       "4  interes internacional  2007.0    Albacete  Castilla-La Mancha  4/2/2023   \n",
       "\n",
       "        fin  \n",
       "0  4/9/2023  \n",
       "1  6/8/2023  \n",
       "2  4/9/2023  \n",
       "3  4/9/2023  \n",
       "4  4/9/2023  "
      ]
     },
     "execution_count": 26,
     "metadata": {},
     "output_type": "execute_result"
    }
   ],
   "source": [
    "import pandas as pd\n",
    "from datetime import datetime\n",
    "data = pd.read_csv(r'C:\\WORK_IAAC\\submissions\\Storytelling\\fiesta_shapefiles\\fiestasAll_timeline(1).csv')\n",
    "data.head()"
   ]
  },
  {
   "cell_type": "code",
   "execution_count": 27,
   "id": "3a3cd8e7",
   "metadata": {},
   "outputs": [
    {
     "name": "stdout",
     "output_type": "stream",
     "text": [
      "<class 'pandas.core.frame.DataFrame'>\n",
      "RangeIndex: 304 entries, 0 to 303\n",
      "Data columns (total 10 columns):\n",
      " #   Column     Non-Null Count  Dtype  \n",
      "---  ------     --------------  -----  \n",
      " 0   festival   303 non-null    object \n",
      " 1   localidad  303 non-null    object \n",
      " 2   lat        302 non-null    object \n",
      " 3   lng        287 non-null    object \n",
      " 4   status     303 non-null    object \n",
      " 5   est        277 non-null    float64\n",
      " 6   prov       303 non-null    object \n",
      " 7   comunidad  141 non-null    object \n",
      " 8   start      303 non-null    object \n",
      " 9   fin        303 non-null    object \n",
      "dtypes: float64(1), object(9)\n",
      "memory usage: 23.9+ KB\n"
     ]
    }
   ],
   "source": [
    "data.info()"
   ]
  },
  {
   "cell_type": "code",
   "execution_count": 28,
   "id": "c999655f",
   "metadata": {},
   "outputs": [
    {
     "name": "stdout",
     "output_type": "stream",
     "text": [
      "<class 'pandas.core.frame.DataFrame'>\n",
      "RangeIndex: 304 entries, 0 to 303\n",
      "Data columns (total 10 columns):\n",
      " #   Column     Non-Null Count  Dtype         \n",
      "---  ------     --------------  -----         \n",
      " 0   festival   303 non-null    object        \n",
      " 1   localidad  303 non-null    object        \n",
      " 2   lat        302 non-null    object        \n",
      " 3   lng        287 non-null    object        \n",
      " 4   status     303 non-null    object        \n",
      " 5   est        277 non-null    float64       \n",
      " 6   prov       303 non-null    object        \n",
      " 7   comunidad  141 non-null    object        \n",
      " 8   end        303 non-null    datetime64[ns]\n",
      " 9   st         303 non-null    datetime64[ns]\n",
      "dtypes: datetime64[ns](2), float64(1), object(7)\n",
      "memory usage: 23.9+ KB\n"
     ]
    }
   ],
   "source": [
    "data['end'] = pd.to_datetime(data['fin'], format='%m/%d/%Y')\n",
    "data['st'] = pd.to_datetime(data['start'], format='%m/%d/%Y')\n",
    "data = data.drop(columns=['start','fin'])\n",
    "data.info()"
   ]
  },
  {
   "cell_type": "code",
   "execution_count": 29,
   "id": "a1545866",
   "metadata": {},
   "outputs": [],
   "source": [
    "# data['lat'] = data['lat'].apply(lambda x:x.astype(float) if len(x)>0 else None)\n",
    "data['lat'] = data['lat'].str.replace('\\ufeff', '').astype(float)\n"
   ]
  },
  {
   "cell_type": "code",
   "execution_count": 30,
   "id": "f9b4b0d5",
   "metadata": {},
   "outputs": [
    {
     "name": "stdout",
     "output_type": "stream",
     "text": [
      "<class 'pandas.core.frame.DataFrame'>\n",
      "RangeIndex: 304 entries, 0 to 303\n",
      "Data columns (total 10 columns):\n",
      " #   Column     Non-Null Count  Dtype         \n",
      "---  ------     --------------  -----         \n",
      " 0   festival   303 non-null    object        \n",
      " 1   localidad  303 non-null    object        \n",
      " 2   lat        302 non-null    float64       \n",
      " 3   lng        287 non-null    float64       \n",
      " 4   status     303 non-null    object        \n",
      " 5   est        277 non-null    float64       \n",
      " 6   prov       303 non-null    object        \n",
      " 7   comunidad  141 non-null    object        \n",
      " 8   end        303 non-null    datetime64[ns]\n",
      " 9   st         303 non-null    datetime64[ns]\n",
      "dtypes: datetime64[ns](2), float64(3), object(5)\n",
      "memory usage: 23.9+ KB\n"
     ]
    }
   ],
   "source": [
    "data['lng'] = data['lng'].str.replace('\\ufeff', '').astype(float)\n",
    "data.info()"
   ]
  },
  {
   "cell_type": "code",
   "execution_count": 31,
   "id": "b8a23c62",
   "metadata": {},
   "outputs": [],
   "source": [
    "data.to_csv(r'C:\\WORK_IAAC\\submissions\\Storytelling\\fiesta_shapefiles\\fiestasAll_timeline_fin.csv')"
   ]
  },
  {
   "cell_type": "code",
   "execution_count": null,
   "id": "a122d3a7",
   "metadata": {},
   "outputs": [],
   "source": []
  },
  {
   "cell_type": "code",
   "execution_count": null,
   "id": "57d5463c",
   "metadata": {},
   "outputs": [],
   "source": []
  }
 ],
 "metadata": {
  "kernelspec": {
   "display_name": "Python 3 (ipykernel)",
   "language": "python",
   "name": "python3"
  },
  "language_info": {
   "codemirror_mode": {
    "name": "ipython",
    "version": 3
   },
   "file_extension": ".py",
   "mimetype": "text/x-python",
   "name": "python",
   "nbconvert_exporter": "python",
   "pygments_lexer": "ipython3",
   "version": "3.9.13"
  }
 },
 "nbformat": 4,
 "nbformat_minor": 5
}
